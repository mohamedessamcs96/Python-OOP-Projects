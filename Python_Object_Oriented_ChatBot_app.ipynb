{
  "nbformat": 4,
  "nbformat_minor": 0,
  "metadata": {
    "colab": {
      "provenance": []
    },
    "kernelspec": {
      "name": "python3",
      "display_name": "Python 3"
    },
    "language_info": {
      "name": "python"
    }
  },
  "cells": [
    {
      "cell_type": "code",
      "execution_count": null,
      "metadata": {
        "colab": {
          "base_uri": "https://localhost:8080/"
        },
        "id": "CDiG9CAexBOV",
        "outputId": "9f8ebe5b-9fa9-49de-a44d-e3545186aa0b"
      },
      "outputs": [
        {
          "output_type": "stream",
          "name": "stdout",
          "text": [
            "Chatbot: Hi! I'm a simple chatbot. Type 'bye' to exit.\n",
            "You: hi\n",
            "Chatbot: Hello! How can I assist you today?\n"
          ]
        }
      ],
      "source": [
        "class SimpleChatbot:\n",
        "    def __init__(self):\n",
        "        self.responses = {\n",
        "            'hi': 'Hello! How can I assist you today?',\n",
        "            'how are you': 'I am just a chatbot, but thanks for asking!',\n",
        "            'bye': 'Goodbye! Have a great day!',\n",
        "            'default': \"I'm sorry, I don't understand. Can you rephrase that?\"\n",
        "        }\n",
        "\n",
        "    def get_response(self, user_input):\n",
        "        user_input = user_input.lower()\n",
        "\n",
        "        if user_input in self.responses:\n",
        "            return self.responses[user_input]\n",
        "        else:\n",
        "            return self.responses['default']\n",
        "\n",
        "\n",
        "def main():\n",
        "    chatbot = SimpleChatbot()\n",
        "    print(\"Chatbot: Hi! I'm a simple chatbot. Type 'bye' to exit.\")\n",
        "\n",
        "    while True:\n",
        "        user_input = input(\"You: \")\n",
        "\n",
        "        if user_input.lower() == 'bye':\n",
        "            print(\"Chatbot: Goodbye! Have a great day!\")\n",
        "            break\n",
        "\n",
        "        response = chatbot.get_response(user_input)\n",
        "        print(\"Chatbot:\", response)\n",
        "\n",
        "\n",
        "if __name__ == \"__main__\":\n",
        "    main()\n"
      ]
    }
  ]
}