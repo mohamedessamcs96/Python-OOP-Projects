{
  "nbformat": 4,
  "nbformat_minor": 0,
  "metadata": {
    "colab": {
      "provenance": []
    },
    "kernelspec": {
      "name": "python3",
      "display_name": "Python 3"
    },
    "language_info": {
      "name": "python"
    }
  },
  "cells": [
    {
      "cell_type": "code",
      "execution_count": 1,
      "metadata": {
        "colab": {
          "base_uri": "https://localhost:8080/"
        },
        "id": "aJibWJyux60u",
        "outputId": "ae2ff611-ae8b-4f1b-d78a-ffe3cb38d9b2"
      },
      "outputs": [
        {
          "output_type": "stream",
          "name": "stdout",
          "text": [
            "Order #1\n",
            "Customer: John Smith (john.smith@example.com)\n",
            "Items: The Great Gatsby by F. Scott Fitzgerald - $15.99, To Kill a Mockingbird by Harper Lee - $12.99, 1984 by George Orwell - $10.49\n",
            "Total: $39.47\n"
          ]
        }
      ],
      "source": [
        "class Book:\n",
        "    def __init__(self, title, author, price):\n",
        "        self.title = title\n",
        "        self.author = author\n",
        "        self.price = price\n",
        "\n",
        "    def __str__(self):\n",
        "        return f\"{self.title} by {self.author} - ${self.price}\"\n",
        "\n",
        "\n",
        "class Customer:\n",
        "    def __init__(self, name, email):\n",
        "        self.name = name\n",
        "        self.email = email\n",
        "\n",
        "    def __str__(self):\n",
        "        return f\"{self.name} ({self.email})\"\n",
        "\n",
        "\n",
        "class ShoppingCart:\n",
        "    def __init__(self):\n",
        "        self.items = []\n",
        "\n",
        "    def add_item(self, book):\n",
        "        self.items.append(book)\n",
        "\n",
        "    def remove_item(self, book):\n",
        "        self.items.remove(book)\n",
        "\n",
        "    def calculate_total(self):\n",
        "        return sum(book.price for book in self.items)\n",
        "\n",
        "\n",
        "class Order:\n",
        "    order_number = 1\n",
        "\n",
        "    def __init__(self, customer, cart):\n",
        "        self.customer = customer\n",
        "        self.cart = cart\n",
        "        self.order_number = Order.order_number\n",
        "        Order.order_number += 1\n",
        "\n",
        "    def __str__(self):\n",
        "        return f\"Order #{self.order_number}\\nCustomer: {self.customer}\\nItems: {', '.join(str(book) for book in self.cart.items)}\\nTotal: ${self.cart.calculate_total()}\"\n",
        "\n",
        "\n",
        "def main():\n",
        "    # Create some books\n",
        "    book1 = Book(\"The Great Gatsby\", \"F. Scott Fitzgerald\", 15.99)\n",
        "    book2 = Book(\"To Kill a Mockingbird\", \"Harper Lee\", 12.99)\n",
        "    book3 = Book(\"1984\", \"George Orwell\", 10.49)\n",
        "\n",
        "    # Create a customer\n",
        "    customer1 = Customer(\"John Smith\", \"john.smith@example.com\")\n",
        "\n",
        "    # Create a shopping cart and add books\n",
        "    cart1 = ShoppingCart()\n",
        "    cart1.add_item(book1)\n",
        "    cart1.add_item(book2)\n",
        "    cart1.add_item(book3)\n",
        "\n",
        "    # Create an order\n",
        "    order1 = Order(customer1, cart1)\n",
        "\n",
        "    # Print order details\n",
        "    print(order1)\n",
        "\n",
        "\n",
        "if __name__ == \"__main__\":\n",
        "    main()\n"
      ]
    }
  ]
}